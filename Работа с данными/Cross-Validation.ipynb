{
 "cells": [
  {
   "cell_type": "markdown",
   "id": "f3ff521e-9e15-4d59-a093-a48d19455cdc",
   "metadata": {},
   "source": [
    "# Cross-Validation\n",
    "\n",
    "При перекрестной проверке мы запускаем наш процесс моделирования на разных подмножествах данных, чтобы получить несколько показателей качества модели"
   ]
  },
  {
   "cell_type": "markdown",
   "id": "83c0a1ab-021e-4f7a-b5d7-1869e1bbf76a",
   "metadata": {},
   "source": [
    "#### Подготовка данных"
   ]
  },
  {
   "cell_type": "code",
   "execution_count": 1,
   "id": "14140aab-8f33-4012-93b6-a92725144ae7",
   "metadata": {},
   "outputs": [],
   "source": [
    "import pandas as pd\n",
    "from sklearn.model_selection import train_test_split\n",
    "\n",
    "data = pd.read_csv(\"../datasets/melb_data.csv\")\n",
    "\n",
    "# Нужные подмножества характеристик\n",
    "cols_to_use = ['Rooms', 'Distance', 'Landsize', 'BuildingArea', 'YearBuilt']\n",
    "X = data[cols_to_use]\n",
    "\n",
    "# Целевые значения\n",
    "y = data.Price"
   ]
  },
  {
   "cell_type": "markdown",
   "id": "733c0023-2613-45d0-9867-59c1a6752f1a",
   "metadata": {},
   "source": [
    "#### Перекрестная проверка\n",
    "Затем определяем конвейер, который использует импутер для заполнения пропущенных значений и модель случайного леса для прогнозирования. Хотя перекрестную проверку и можно выполнить без конвейеров, это довольно сложно. Использование конвейера сделает код удивительно простым."
   ]
  },
  {
   "cell_type": "code",
   "execution_count": 2,
   "id": "5e231eff-fb8f-4ec2-b554-9fc303745e3b",
   "metadata": {},
   "outputs": [],
   "source": [
    "from sklearn.ensemble import RandomForestRegressor\n",
    "from sklearn.pipeline import Pipeline\n",
    "from sklearn.impute import SimpleImputer\n",
    "\n",
    "\n",
    "my_pipeline = Pipeline(\n",
    "    steps=[\n",
    "        (\"preprocessor\", SimpleImputer()),\n",
    "        (\"model\", RandomForestRegressor(\n",
    "            n_estimators=50,\n",
    "            random_state=42,\n",
    "        ))\n",
    "    ]\n",
    ")"
   ]
  },
  {
   "cell_type": "markdown",
   "id": "332904f5-d508-448b-8ae0-f5ae31c0b2ac",
   "metadata": {},
   "source": [
    "Получаем баллы перекрестной проверки с помощью функции cross_val_score() из scikit-learn. Мы устанавливаем количество сгибов с помощью параметра cv"
   ]
  },
  {
   "cell_type": "code",
   "execution_count": 3,
   "id": "71c314bf-abbb-4126-97e0-e929993592a0",
   "metadata": {},
   "outputs": [
    {
     "name": "stdout",
     "output_type": "stream",
     "text": [
      "MAE scores:\n",
      " [297064.72238276 300239.56062646 287168.95506934 237234.84661343\n",
      " 260589.85501224]\n"
     ]
    }
   ],
   "source": [
    "from sklearn.model_selection import cross_val_score\n",
    "\n",
    "# Умножьте на -1, поскольку sklearn вычисляет *отрицательный* MAE\n",
    "scores = -1 * cross_val_score(\n",
    "    my_pipeline, X, y,\n",
    "    cv=5,\n",
    "    scoring=\"neg_mean_absolute_error\",\n",
    ")\n",
    "\n",
    "print(\"MAE scores:\\n\", scores)"
   ]
  },
  {
   "cell_type": "markdown",
   "id": "e9066486-5f96-4876-8fc1-be66773e6744",
   "metadata": {},
   "source": [
    "Берем среднее значение по всем экспериментам"
   ]
  },
  {
   "cell_type": "code",
   "execution_count": 4,
   "id": "0d027579-97a4-4ff0-8f28-5635988eab79",
   "metadata": {},
   "outputs": [
    {
     "name": "stdout",
     "output_type": "stream",
     "text": [
      "Average MAE score (across experiments):\n",
      "276459.5879408453\n"
     ]
    }
   ],
   "source": [
    "print(\"Average MAE score (across experiments):\")\n",
    "print(scores.mean())"
   ]
  }
 ],
 "metadata": {
  "kernelspec": {
   "display_name": "Python 3 (ipykernel)",
   "language": "python",
   "name": "python3"
  },
  "language_info": {
   "codemirror_mode": {
    "name": "ipython",
    "version": 3
   },
   "file_extension": ".py",
   "mimetype": "text/x-python",
   "name": "python",
   "nbconvert_exporter": "python",
   "pygments_lexer": "ipython3",
   "version": "3.11.9"
  }
 },
 "nbformat": 4,
 "nbformat_minor": 5
}
