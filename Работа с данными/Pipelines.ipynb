{
 "cells": [
  {
   "cell_type": "markdown",
   "id": "06c39621-cc0c-4ef9-8b3b-5d4c584117c1",
   "metadata": {},
   "source": [
    "# Pipelines\n",
    "##### Pipelines (Конвейеры) - это простой способ упорядочить код предварительной обработки данных и моделирования. В частности, конвейер объединяет этапы предварительной обработки и моделирования, поэтому вы можете использовать весь пакет (Bundle) так, как если бы это был один шаг."
   ]
  },
  {
   "cell_type": "markdown",
   "id": "4d37f582-cc2e-4399-ac13-a4d5ad076c33",
   "metadata": {
    "jp-MarkdownHeadingCollapsed": true
   },
   "source": [
    "#### Подготовка данных"
   ]
  },
  {
   "cell_type": "code",
   "execution_count": 1,
   "id": "428c73b4-2abc-451e-84c6-d487a1d4a3f7",
   "metadata": {},
   "outputs": [],
   "source": [
    "import pandas as pd\n",
    "from sklearn.model_selection import train_test_split"
   ]
  },
  {
   "cell_type": "code",
   "execution_count": 2,
   "id": "a1b5a668-d1ea-4b20-a31e-4d622cb3b4d2",
   "metadata": {},
   "outputs": [],
   "source": [
    "data = pd.read_csv(\"../datasets/melb_data.csv\")\n",
    "\n",
    "# Для примера удалим лишние столбцы\n",
    "# data = data.drop(['Suburb', 'Address', 'SellerG', 'Date', 'CouncilArea'], axis=1)\n",
    "\n",
    "# Целевые значения\n",
    "y = data.Price\n",
    "\n",
    "# Отбросим колонку целевых значений из датасета\n",
    "X = data.drop([\"Price\"], axis=1)\n",
    "\n",
    "X_train_full, X_test_full, y_train, y_test = train_test_split = train_test_split(\n",
    "    X,\n",
    "    y,\n",
    "    test_size=0.2,\n",
    "    random_state=42,\n",
    ")\n",
    "\n",
    "# Уберем категоральные столбцы с низкой мощностью (\"Мощность\" означает количество уникальных значений в столбце)\n",
    "categorical_cols = [cname for cname in X_train_full.columns\n",
    "                    if X_train_full[cname].nunique() < 10\n",
    "                    and X_train_full[cname].dtype == \"object\"]\n",
    "\n",
    "# Получим все числовые столбцы\n",
    "numerical_cols = [cname for cname in X_train_full.columns if X_train_full[cname].dtype in ['int64', 'float64']]\n",
    "\n",
    "my_cols = categorical_cols + numerical_cols\n",
    "X_train = X_train_full[my_cols].copy()\n",
    "X_test = X_test_full[my_cols].copy()"
   ]
  },
  {
   "cell_type": "markdown",
   "id": "ae5fcc6e-c42c-4857-80ed-85ebb095b413",
   "metadata": {},
   "source": [
    "### Шаг 1\n",
    "#### Определение этапов предварительной обработки\n",
    "\n",
    "Подобно тому, как конвейер объединяет этапы предварительной обработки и моделирования, мы используем класс ColumnTransformer для объединения различных этапов предварительной обработки"
   ]
  },
  {
   "cell_type": "code",
   "execution_count": 3,
   "id": "5039f1b5-488c-4ec7-8671-36f179bfa89e",
   "metadata": {},
   "outputs": [],
   "source": [
    "from sklearn.compose import ColumnTransformer\n",
    "from sklearn.pipeline import Pipeline\n",
    "from sklearn.impute import SimpleImputer\n",
    "from sklearn.preprocessing import OneHotEncoder"
   ]
  },
  {
   "cell_type": "code",
   "execution_count": 4,
   "id": "7a7ffc81-1620-4384-847b-8e688b4772a9",
   "metadata": {},
   "outputs": [],
   "source": [
    "# Предварительная обработка числовых данных. SimpleImputer - oдномерный imputer для заполнения пропущенных значений с помощью простых стратегий.\n",
    "numerical_transformer = SimpleImputer(strategy='constant')\n",
    "\n",
    "# Предварительная обработка категориальных данных\n",
    "categorical_transformer = Pipeline(steps=[\n",
    "    # Восстанавливаем пропущенные данные самым частым значением\n",
    "    ('imputer', SimpleImputer(strategy='most_frequent')),\n",
    "    # Кодируем категориальные объекты в виде однозначного числового массива\n",
    "    ('onehot', OneHotEncoder(handle_unknown='ignore')),\n",
    "])\n",
    "\n",
    "# Предварительная обработка пакета (Bundle) для числовых и категориальных данных\n",
    "preprocessor = ColumnTransformer(\n",
    "    transformers=[\n",
    "        # (название, трансформер, столбцы к которым применить обработку)\n",
    "        (\"num\", numerical_transformer, numerical_cols),\n",
    "        (\"cat\", categorical_transformer, categorical_cols,)\n",
    "    ]\n",
    ")"
   ]
  },
  {
   "cell_type": "markdown",
   "id": "d4775d19-be3b-481e-802a-88a0dd50ab94",
   "metadata": {},
   "source": [
    "### Шаг 2\n",
    "#### Определение модели\n",
    "\n",
    "Далее определим модель случайного леса с помощью класса RandomForestRegressor"
   ]
  },
  {
   "cell_type": "code",
   "execution_count": 5,
   "id": "75dbcbf2-863c-4e7f-a53a-3ca0483223f0",
   "metadata": {},
   "outputs": [],
   "source": [
    "from sklearn.ensemble import RandomForestRegressor\n",
    "\n",
    "model = RandomForestRegressor(\n",
    "    n_estimators=111,\n",
    "    random_state=42,\n",
    ")"
   ]
  },
  {
   "cell_type": "markdown",
   "id": "f54fb99a-a58d-4785-9fb3-9c9e24d744d0",
   "metadata": {},
   "source": [
    "### Шаг 3\n",
    "#### Создание и оценка конвейера\n",
    "\n",
    "Используем класс Pipeline для определения конвейера, который объединяет этапы предварительной обработки и моделирования. Следует отметить несколько важных моментов:\n",
    "\n",
    "- С помощью конвейера мы предварительно обрабатываем обучающие данные и помещаем модель в одну строку кода\n",
    "- С помощью конвейера мы передаем необработанные объекты в X_test команде predict(), и конвейер автоматически выполняет предварительную обработку объектов перед генерацией прогнозов"
   ]
  },
  {
   "cell_type": "code",
   "execution_count": 6,
   "id": "93b9db2c-c760-4bf7-b758-5c9477630c1e",
   "metadata": {},
   "outputs": [],
   "source": [
    "from sklearn.metrics import mean_absolute_error"
   ]
  },
  {
   "cell_type": "code",
   "execution_count": 7,
   "id": "cfab1178-83b9-4b1b-bbb9-7b2bab22a201",
   "metadata": {},
   "outputs": [
    {
     "name": "stdout",
     "output_type": "stream",
     "text": [
      "MAE: 162333.39220811386\n"
     ]
    }
   ],
   "source": [
    "# Объединим предварительную обработку и моделирование кода в конвейер\n",
    "my_over_9000_pepline = Pipeline(\n",
    "    steps=[\n",
    "        (\"preprocessor\", preprocessor),\n",
    "        (\"model\", model)\n",
    "    ]\n",
    ")\n",
    "\n",
    "# Предварительная обработка обучающих данных, тренировка модели\n",
    "my_over_9000_pepline.fit(X_train, y_train)\n",
    "\n",
    "# Предварительная обработка проверочных данных, получение прогнозов\n",
    "preds = my_over_9000_pepline.predict(X_test)\n",
    "\n",
    "# Оценка модели\n",
    "score = mean_absolute_error(y_test, preds)\n",
    "print(\"MAE:\", score)"
   ]
  }
 ],
 "metadata": {
  "kernelspec": {
   "display_name": "Python 3 (ipykernel)",
   "language": "python",
   "name": "python3"
  },
  "language_info": {
   "codemirror_mode": {
    "name": "ipython",
    "version": 3
   },
   "file_extension": ".py",
   "mimetype": "text/x-python",
   "name": "python",
   "nbconvert_exporter": "python",
   "pygments_lexer": "ipython3",
   "version": "3.11.9"
  }
 },
 "nbformat": 4,
 "nbformat_minor": 5
}
