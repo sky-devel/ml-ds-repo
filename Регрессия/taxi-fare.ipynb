{
 "cells": [
  {
   "cell_type": "markdown",
   "id": "946e677e-6f28-46cb-addf-f4a482dc0a09",
   "metadata": {},
   "source": [
    "# Использование регрессии для прогнозирования тарифов на такси"
   ]
  },
  {
   "cell_type": "code",
   "execution_count": 1,
   "id": "fad98cf8-d3f3-4a68-8988-a8a6ed6f2270",
   "metadata": {},
   "outputs": [],
   "source": [
    "import pandas as pd"
   ]
  },
  {
   "cell_type": "code",
   "execution_count": 2,
   "id": "1480e098-31e5-4651-af75-f67f68e110db",
   "metadata": {},
   "outputs": [
    {
     "data": {
      "text/html": [
       "<div>\n",
       "<style scoped>\n",
       "    .dataframe tbody tr th:only-of-type {\n",
       "        vertical-align: middle;\n",
       "    }\n",
       "\n",
       "    .dataframe tbody tr th {\n",
       "        vertical-align: top;\n",
       "    }\n",
       "\n",
       "    .dataframe thead th {\n",
       "        text-align: right;\n",
       "    }\n",
       "</style>\n",
       "<table border=\"1\" class=\"dataframe\">\n",
       "  <thead>\n",
       "    <tr style=\"text-align: right;\">\n",
       "      <th></th>\n",
       "      <th>key</th>\n",
       "      <th>fare_amount</th>\n",
       "      <th>pickup_datetime</th>\n",
       "      <th>pickup_longitude</th>\n",
       "      <th>pickup_latitude</th>\n",
       "      <th>dropoff_longitude</th>\n",
       "      <th>dropoff_latitude</th>\n",
       "      <th>passenger_count</th>\n",
       "    </tr>\n",
       "  </thead>\n",
       "  <tbody>\n",
       "    <tr>\n",
       "      <th>0</th>\n",
       "      <td>2014-06-15 17:11:00.000000107</td>\n",
       "      <td>7.0</td>\n",
       "      <td>2014-06-15 17:11:00+00:00</td>\n",
       "      <td>-73.995420</td>\n",
       "      <td>40.759662</td>\n",
       "      <td>-73.987607</td>\n",
       "      <td>40.751247</td>\n",
       "      <td>1</td>\n",
       "    </tr>\n",
       "    <tr>\n",
       "      <th>1</th>\n",
       "      <td>2011-03-14 22:43:00.00000095</td>\n",
       "      <td>4.9</td>\n",
       "      <td>2011-03-14 22:43:00+00:00</td>\n",
       "      <td>-73.993552</td>\n",
       "      <td>40.731110</td>\n",
       "      <td>-73.998497</td>\n",
       "      <td>40.737200</td>\n",
       "      <td>5</td>\n",
       "    </tr>\n",
       "    <tr>\n",
       "      <th>2</th>\n",
       "      <td>2011-02-14 15:14:00.00000067</td>\n",
       "      <td>6.1</td>\n",
       "      <td>2011-02-14 15:14:00+00:00</td>\n",
       "      <td>-73.972380</td>\n",
       "      <td>40.749527</td>\n",
       "      <td>-73.990638</td>\n",
       "      <td>40.745328</td>\n",
       "      <td>1</td>\n",
       "    </tr>\n",
       "    <tr>\n",
       "      <th>3</th>\n",
       "      <td>2009-10-29 11:29:00.00000040</td>\n",
       "      <td>6.9</td>\n",
       "      <td>2009-10-29 11:29:00+00:00</td>\n",
       "      <td>-73.973703</td>\n",
       "      <td>40.763542</td>\n",
       "      <td>-73.984253</td>\n",
       "      <td>40.758603</td>\n",
       "      <td>5</td>\n",
       "    </tr>\n",
       "    <tr>\n",
       "      <th>4</th>\n",
       "      <td>2011-07-02 10:38:00.00000028</td>\n",
       "      <td>10.5</td>\n",
       "      <td>2011-07-02 10:38:00+00:00</td>\n",
       "      <td>-73.921262</td>\n",
       "      <td>40.743615</td>\n",
       "      <td>-73.967383</td>\n",
       "      <td>40.765162</td>\n",
       "      <td>1</td>\n",
       "    </tr>\n",
       "    <tr>\n",
       "      <th>...</th>\n",
       "      <td>...</td>\n",
       "      <td>...</td>\n",
       "      <td>...</td>\n",
       "      <td>...</td>\n",
       "      <td>...</td>\n",
       "      <td>...</td>\n",
       "      <td>...</td>\n",
       "      <td>...</td>\n",
       "    </tr>\n",
       "    <tr>\n",
       "      <th>55363</th>\n",
       "      <td>2011-09-18 19:58:26.0000004</td>\n",
       "      <td>49.8</td>\n",
       "      <td>2011-09-18 19:58:26+00:00</td>\n",
       "      <td>-73.954218</td>\n",
       "      <td>40.781272</td>\n",
       "      <td>-73.790650</td>\n",
       "      <td>40.644147</td>\n",
       "      <td>1</td>\n",
       "    </tr>\n",
       "    <tr>\n",
       "      <th>55364</th>\n",
       "      <td>2011-02-05 16:22:00.000000112</td>\n",
       "      <td>9.7</td>\n",
       "      <td>2011-02-05 16:22:00+00:00</td>\n",
       "      <td>-74.000117</td>\n",
       "      <td>40.732792</td>\n",
       "      <td>-73.974612</td>\n",
       "      <td>40.749842</td>\n",
       "      <td>1</td>\n",
       "    </tr>\n",
       "    <tr>\n",
       "      <th>55365</th>\n",
       "      <td>2010-06-14 09:49:26.0000005</td>\n",
       "      <td>8.9</td>\n",
       "      <td>2010-06-14 09:49:26+00:00</td>\n",
       "      <td>-73.994161</td>\n",
       "      <td>40.751109</td>\n",
       "      <td>-73.973510</td>\n",
       "      <td>40.757730</td>\n",
       "      <td>1</td>\n",
       "    </tr>\n",
       "    <tr>\n",
       "      <th>55366</th>\n",
       "      <td>2015-06-08 21:54:03.0000002</td>\n",
       "      <td>3.5</td>\n",
       "      <td>2015-06-08 21:54:03+00:00</td>\n",
       "      <td>-73.995331</td>\n",
       "      <td>40.759766</td>\n",
       "      <td>-73.990479</td>\n",
       "      <td>40.766396</td>\n",
       "      <td>1</td>\n",
       "    </tr>\n",
       "    <tr>\n",
       "      <th>55367</th>\n",
       "      <td>2014-10-07 07:20:35.0000002</td>\n",
       "      <td>6.5</td>\n",
       "      <td>2014-10-07 07:20:35+00:00</td>\n",
       "      <td>-73.990181</td>\n",
       "      <td>40.756811</td>\n",
       "      <td>-73.976825</td>\n",
       "      <td>40.754962</td>\n",
       "      <td>1</td>\n",
       "    </tr>\n",
       "  </tbody>\n",
       "</table>\n",
       "<p>55368 rows × 8 columns</p>\n",
       "</div>"
      ],
      "text/plain": [
       "                                 key  fare_amount           pickup_datetime  \\\n",
       "0      2014-06-15 17:11:00.000000107          7.0 2014-06-15 17:11:00+00:00   \n",
       "1       2011-03-14 22:43:00.00000095          4.9 2011-03-14 22:43:00+00:00   \n",
       "2       2011-02-14 15:14:00.00000067          6.1 2011-02-14 15:14:00+00:00   \n",
       "3       2009-10-29 11:29:00.00000040          6.9 2009-10-29 11:29:00+00:00   \n",
       "4       2011-07-02 10:38:00.00000028         10.5 2011-07-02 10:38:00+00:00   \n",
       "...                              ...          ...                       ...   \n",
       "55363    2011-09-18 19:58:26.0000004         49.8 2011-09-18 19:58:26+00:00   \n",
       "55364  2011-02-05 16:22:00.000000112          9.7 2011-02-05 16:22:00+00:00   \n",
       "55365    2010-06-14 09:49:26.0000005          8.9 2010-06-14 09:49:26+00:00   \n",
       "55366    2015-06-08 21:54:03.0000002          3.5 2015-06-08 21:54:03+00:00   \n",
       "55367    2014-10-07 07:20:35.0000002          6.5 2014-10-07 07:20:35+00:00   \n",
       "\n",
       "       pickup_longitude  pickup_latitude  dropoff_longitude  dropoff_latitude  \\\n",
       "0            -73.995420        40.759662         -73.987607         40.751247   \n",
       "1            -73.993552        40.731110         -73.998497         40.737200   \n",
       "2            -73.972380        40.749527         -73.990638         40.745328   \n",
       "3            -73.973703        40.763542         -73.984253         40.758603   \n",
       "4            -73.921262        40.743615         -73.967383         40.765162   \n",
       "...                 ...              ...                ...               ...   \n",
       "55363        -73.954218        40.781272         -73.790650         40.644147   \n",
       "55364        -74.000117        40.732792         -73.974612         40.749842   \n",
       "55365        -73.994161        40.751109         -73.973510         40.757730   \n",
       "55366        -73.995331        40.759766         -73.990479         40.766396   \n",
       "55367        -73.990181        40.756811         -73.976825         40.754962   \n",
       "\n",
       "       passenger_count  \n",
       "0                    1  \n",
       "1                    5  \n",
       "2                    1  \n",
       "3                    5  \n",
       "4                    1  \n",
       "...                ...  \n",
       "55363                1  \n",
       "55364                1  \n",
       "55365                1  \n",
       "55366                1  \n",
       "55367                1  \n",
       "\n",
       "[55368 rows x 8 columns]"
      ]
     },
     "execution_count": 2,
     "metadata": {},
     "output_type": "execute_result"
    }
   ],
   "source": [
    "df = pd.read_csv(\"../datasets/taxi-fares.csv\", parse_dates=[\"pickup_datetime\"])\n",
    "df"
   ]
  },
  {
   "cell_type": "code",
   "execution_count": 3,
   "id": "ffb155b1-5d83-45fc-bfc7-598dedaa3a6b",
   "metadata": {},
   "outputs": [],
   "source": [
    "%matplotlib inline\n",
    "import matplotlib as plt\n",
    "import seaborn as sns\n",
    "# sns.set()"
   ]
  },
  {
   "cell_type": "code",
   "execution_count": 4,
   "id": "295a1c45-ec97-4f15-8d9a-83b37c7d84a9",
   "metadata": {},
   "outputs": [
    {
     "data": {
      "text/plain": [
       "<Axes: xlabel='passenger_count', ylabel='count'>"
      ]
     },
     "execution_count": 4,
     "metadata": {},
     "output_type": "execute_result"
    },
    {
     "data": {
      "image/png": "[encoded data removed]",
      "text/plain": [
       "<Figure size 640x480 with 1 Axes>"
      ]
     },
     "metadata": {},
     "output_type": "display_data"
    }
   ],
   "source": [
    "import warnings\n",
    "warnings.filterwarnings(\"ignore\")\n",
    "\n",
    "sns.countplot(x=df[\"passenger_count\"])"
   ]
  },
  {
   "cell_type": "code",
   "execution_count": 5,
   "id": "c96b1870-1e98-4296-af7a-138b2c295743",
   "metadata": {},
   "outputs": [
    {
     "data": {
      "text/plain": [
       "(38233, 6)"
      ]
     },
     "execution_count": 5,
     "metadata": {},
     "output_type": "execute_result"
    }
   ],
   "source": [
    "# Только один пассажир\n",
    "df = df[df[\"passenger_count\"] == 1]\n",
    "\n",
    "df = df.drop(columns=[\"key\", \"passenger_count\"])\n",
    "df.shape"
   ]
  },
  {
   "cell_type": "code",
   "execution_count": 6,
   "id": "fe17a12c-476e-4fa6-a0ff-be6d3393c8cd",
   "metadata": {},
   "outputs": [
    {
     "data": {
      "text/html": [
       "<div>\n",
       "<style scoped>\n",
       "    .dataframe tbody tr th:only-of-type {\n",
       "        vertical-align: middle;\n",
       "    }\n",
       "\n",
       "    .dataframe tbody tr th {\n",
       "        vertical-align: top;\n",
       "    }\n",
       "\n",
       "    .dataframe thead th {\n",
       "        text-align: right;\n",
       "    }\n",
       "</style>\n",
       "<table border=\"1\" class=\"dataframe\">\n",
       "  <thead>\n",
       "    <tr style=\"text-align: right;\">\n",
       "      <th></th>\n",
       "      <th>fare_amount</th>\n",
       "      <th>pickup_datetime</th>\n",
       "      <th>pickup_longitude</th>\n",
       "      <th>pickup_latitude</th>\n",
       "      <th>dropoff_longitude</th>\n",
       "      <th>dropoff_latitude</th>\n",
       "    </tr>\n",
       "  </thead>\n",
       "  <tbody>\n",
       "    <tr>\n",
       "      <th>fare_amount</th>\n",
       "      <td>1.000000</td>\n",
       "      <td>0.115992</td>\n",
       "      <td>0.015742</td>\n",
       "      <td>-0.015915</td>\n",
       "      <td>0.020438</td>\n",
       "      <td>-0.021711</td>\n",
       "    </tr>\n",
       "    <tr>\n",
       "      <th>pickup_datetime</th>\n",
       "      <td>0.115992</td>\n",
       "      <td>1.000000</td>\n",
       "      <td>0.011167</td>\n",
       "      <td>-0.013109</td>\n",
       "      <td>0.011467</td>\n",
       "      <td>-0.013421</td>\n",
       "    </tr>\n",
       "    <tr>\n",
       "      <th>pickup_longitude</th>\n",
       "      <td>0.015742</td>\n",
       "      <td>0.011167</td>\n",
       "      <td>1.000000</td>\n",
       "      <td>-0.974220</td>\n",
       "      <td>0.948185</td>\n",
       "      <td>-0.933444</td>\n",
       "    </tr>\n",
       "    <tr>\n",
       "      <th>pickup_latitude</th>\n",
       "      <td>-0.015915</td>\n",
       "      <td>-0.013109</td>\n",
       "      <td>-0.974220</td>\n",
       "      <td>1.000000</td>\n",
       "      <td>-0.933960</td>\n",
       "      <td>0.958464</td>\n",
       "    </tr>\n",
       "    <tr>\n",
       "      <th>dropoff_longitude</th>\n",
       "      <td>0.020438</td>\n",
       "      <td>0.011467</td>\n",
       "      <td>0.948185</td>\n",
       "      <td>-0.933960</td>\n",
       "      <td>1.000000</td>\n",
       "      <td>-0.978209</td>\n",
       "    </tr>\n",
       "    <tr>\n",
       "      <th>dropoff_latitude</th>\n",
       "      <td>-0.021711</td>\n",
       "      <td>-0.013421</td>\n",
       "      <td>-0.933444</td>\n",
       "      <td>0.958464</td>\n",
       "      <td>-0.978209</td>\n",
       "      <td>1.000000</td>\n",
       "    </tr>\n",
       "  </tbody>\n",
       "</table>\n",
       "</div>"
      ],
      "text/plain": [
       "                   fare_amount  pickup_datetime  pickup_longitude  \\\n",
       "fare_amount           1.000000         0.115992          0.015742   \n",
       "pickup_datetime       0.115992         1.000000          0.011167   \n",
       "pickup_longitude      0.015742         0.011167          1.000000   \n",
       "pickup_latitude      -0.015915        -0.013109         -0.974220   \n",
       "dropoff_longitude     0.020438         0.011467          0.948185   \n",
       "dropoff_latitude     -0.021711        -0.013421         -0.933444   \n",
       "\n",
       "                   pickup_latitude  dropoff_longitude  dropoff_latitude  \n",
       "fare_amount              -0.015915           0.020438         -0.021711  \n",
       "pickup_datetime          -0.013109           0.011467         -0.013421  \n",
       "pickup_longitude         -0.974220           0.948185         -0.933444  \n",
       "pickup_latitude           1.000000          -0.933960          0.958464  \n",
       "dropoff_longitude        -0.933960           1.000000         -0.978209  \n",
       "dropoff_latitude          0.958464          -0.978209          1.000000  "
      ]
     },
     "execution_count": 6,
     "metadata": {},
     "output_type": "execute_result"
    }
   ],
   "source": [
    "corr_matrix = df.corr()\n",
    "corr_matrix"
   ]
  },
  {
   "cell_type": "code",
   "execution_count": 7,
   "id": "0a1b8bb8-11cb-4311-bcb0-8087426f5674",
   "metadata": {},
   "outputs": [
    {
     "data": {
      "text/plain": [
       "fare_amount          1.000000\n",
       "pickup_datetime      0.115992\n",
       "dropoff_longitude    0.020438\n",
       "pickup_longitude     0.015742\n",
       "pickup_latitude     -0.015915\n",
       "dropoff_latitude    -0.021711\n",
       "Name: fare_amount, dtype: float64"
      ]
     },
     "execution_count": 7,
     "metadata": {},
     "output_type": "execute_result"
    }
   ],
   "source": [
    "# Матрица корреляции значений\n",
    "corr_matrix[\"fare_amount\"].sort_values(ascending=False)"
   ]
  },
  {
   "cell_type": "code",
   "execution_count": 8,
   "id": "33493091-7334-432d-9ef3-0ad061a13199",
   "metadata": {},
   "outputs": [],
   "source": [
    "# Создание дополнительных признаков из существующих\n",
    "from math import sqrt\n",
    "\n",
    "for i, row in df.iterrows():\n",
    "    dt = row[\"pickup_datetime\"]\n",
    "    df.at[i, \"day_of_week\"] = dt.weekday()\n",
    "    df.at[i, \"pickup_time\"] = dt.hour\n",
    "    x = (row[\"dropoff_longitude\"] - row[\"pickup_longitude\"]) * 54.6\n",
    "    y = (row[\"dropoff_latitude\"] - row[\"pickup_latitude\"]) * 69.0\n",
    "    distance = sqrt(x**2 + y**2)\n",
    "    df.at[i, \"distance\"] = distance"
   ]
  },
  {
   "cell_type": "code",
   "execution_count": 9,
   "id": "b72f70a9-6fdc-44d2-86f2-ba6051f01293",
   "metadata": {},
   "outputs": [
    {
     "data": {
      "text/html": [
       "<div>\n",
       "<style scoped>\n",
       "    .dataframe tbody tr th:only-of-type {\n",
       "        vertical-align: middle;\n",
       "    }\n",
       "\n",
       "    .dataframe tbody tr th {\n",
       "        vertical-align: top;\n",
       "    }\n",
       "\n",
       "    .dataframe thead th {\n",
       "        text-align: right;\n",
       "    }\n",
       "</style>\n",
       "<table border=\"1\" class=\"dataframe\">\n",
       "  <thead>\n",
       "    <tr style=\"text-align: right;\">\n",
       "      <th></th>\n",
       "      <th>fare_amount</th>\n",
       "      <th>day_of_week</th>\n",
       "      <th>pickup_time</th>\n",
       "      <th>distance</th>\n",
       "    </tr>\n",
       "  </thead>\n",
       "  <tbody>\n",
       "    <tr>\n",
       "      <th>0</th>\n",
       "      <td>7.0</td>\n",
       "      <td>6.0</td>\n",
       "      <td>17.0</td>\n",
       "      <td>0.720497</td>\n",
       "    </tr>\n",
       "    <tr>\n",
       "      <th>2</th>\n",
       "      <td>6.1</td>\n",
       "      <td>0.0</td>\n",
       "      <td>15.0</td>\n",
       "      <td>1.038136</td>\n",
       "    </tr>\n",
       "    <tr>\n",
       "      <th>4</th>\n",
       "      <td>10.5</td>\n",
       "      <td>5.0</td>\n",
       "      <td>10.0</td>\n",
       "      <td>2.924341</td>\n",
       "    </tr>\n",
       "    <tr>\n",
       "      <th>5</th>\n",
       "      <td>15.3</td>\n",
       "      <td>4.0</td>\n",
       "      <td>20.0</td>\n",
       "      <td>4.862893</td>\n",
       "    </tr>\n",
       "    <tr>\n",
       "      <th>8</th>\n",
       "      <td>7.7</td>\n",
       "      <td>5.0</td>\n",
       "      <td>1.0</td>\n",
       "      <td>2.603493</td>\n",
       "    </tr>\n",
       "    <tr>\n",
       "      <th>...</th>\n",
       "      <td>...</td>\n",
       "      <td>...</td>\n",
       "      <td>...</td>\n",
       "      <td>...</td>\n",
       "    </tr>\n",
       "    <tr>\n",
       "      <th>55363</th>\n",
       "      <td>49.8</td>\n",
       "      <td>6.0</td>\n",
       "      <td>19.0</td>\n",
       "      <td>13.010833</td>\n",
       "    </tr>\n",
       "    <tr>\n",
       "      <th>55364</th>\n",
       "      <td>9.7</td>\n",
       "      <td>5.0</td>\n",
       "      <td>16.0</td>\n",
       "      <td>1.822990</td>\n",
       "    </tr>\n",
       "    <tr>\n",
       "      <th>55365</th>\n",
       "      <td>8.9</td>\n",
       "      <td>0.0</td>\n",
       "      <td>9.0</td>\n",
       "      <td>1.216580</td>\n",
       "    </tr>\n",
       "    <tr>\n",
       "      <th>55366</th>\n",
       "      <td>3.5</td>\n",
       "      <td>0.0</td>\n",
       "      <td>21.0</td>\n",
       "      <td>0.528645</td>\n",
       "    </tr>\n",
       "    <tr>\n",
       "      <th>55367</th>\n",
       "      <td>6.5</td>\n",
       "      <td>1.0</td>\n",
       "      <td>7.0</td>\n",
       "      <td>0.740314</td>\n",
       "    </tr>\n",
       "  </tbody>\n",
       "</table>\n",
       "<p>38233 rows × 4 columns</p>\n",
       "</div>"
      ],
      "text/plain": [
       "       fare_amount  day_of_week  pickup_time   distance\n",
       "0              7.0          6.0         17.0   0.720497\n",
       "2              6.1          0.0         15.0   1.038136\n",
       "4             10.5          5.0         10.0   2.924341\n",
       "5             15.3          4.0         20.0   4.862893\n",
       "8              7.7          5.0          1.0   2.603493\n",
       "...            ...          ...          ...        ...\n",
       "55363         49.8          6.0         19.0  13.010833\n",
       "55364          9.7          5.0         16.0   1.822990\n",
       "55365          8.9          0.0          9.0   1.216580\n",
       "55366          3.5          0.0         21.0   0.528645\n",
       "55367          6.5          1.0          7.0   0.740314\n",
       "\n",
       "[38233 rows x 4 columns]"
      ]
     },
     "execution_count": 9,
     "metadata": {},
     "output_type": "execute_result"
    }
   ],
   "source": [
    "df.drop(columns=[\"pickup_datetime\", \"pickup_longitude\", \"pickup_latitude\", \"dropoff_longitude\", \"dropoff_latitude\"], inplace=True)\n",
    "df"
   ]
  },
  {
   "cell_type": "code",
   "execution_count": 16,
   "id": "44448ac4-d7f6-4a9a-9ef6-25a0ffd6c94d",
   "metadata": {},
   "outputs": [],
   "source": [
    "df = df[(df[\"distance\"] > 1.0) & (df[\"distance\"] < 10.0)]\n",
    "df = df[(df[\"fare_amount\"] > 0.0) & (df[\"fare_amount\"] < 50.0)]"
   ]
  },
  {
   "cell_type": "code",
   "execution_count": 18,
   "id": "11e28887-439d-43c7-bf42-826ad08ae0d9",
   "metadata": {},
   "outputs": [
    {
     "data": {
      "text/plain": [
       "fare_amount    1.000000\n",
       "distance       0.851913\n",
       "day_of_week   -0.003570\n",
       "pickup_time   -0.023085\n",
       "Name: fare_amount, dtype: float64"
      ]
     },
     "execution_count": 18,
     "metadata": {},
     "output_type": "execute_result"
    }
   ],
   "source": [
    "corr_matrix = df.corr()\n",
    "corr_matrix[\"fare_amount\"].sort_values(ascending=False)"
   ]
  },
  {
   "cell_type": "code",
   "execution_count": 19,
   "id": "d4d18aaf-38cf-42a3-868f-e2afcda1e01a",
   "metadata": {},
   "outputs": [],
   "source": [
    "from sklearn.linear_model import LinearRegression\n",
    "from sklearn.model_selection import cross_val_score\n",
    "\n",
    "x = df.drop(columns=[\"fare_amount\"])\n",
    "y = df[\"fare_amount\"]"
   ]
  },
  {
   "cell_type": "code",
   "execution_count": 20,
   "id": "0e1e3f4a-435a-4302-9cc5-6fdd4ff47a42",
   "metadata": {},
   "outputs": [
    {
     "data": {
      "text/plain": [
       "0.7258845061910318"
      ]
     },
     "execution_count": 20,
     "metadata": {},
     "output_type": "execute_result"
    }
   ],
   "source": [
    "model = LinearRegression()\n",
    "cross_val_score(model, x, y, cv=5).mean()"
   ]
  },
  {
   "cell_type": "code",
   "execution_count": 21,
   "id": "0a25ca9a-866d-46f3-b63c-b8c0268463ab",
   "metadata": {},
   "outputs": [
    {
     "data": {
      "text/plain": [
       "0.7056142291526881"
      ]
     },
     "execution_count": 21,
     "metadata": {},
     "output_type": "execute_result"
    }
   ],
   "source": [
    "from sklearn.ensemble import RandomForestRegressor\n",
    "\n",
    "model = RandomForestRegressor()\n",
    "cross_val_score(model, x, y, cv=5).mean()"
   ]
  },
  {
   "cell_type": "code",
   "execution_count": 22,
   "id": "fdff381c-7b12-411f-b791-2bf920f89346",
   "metadata": {},
   "outputs": [
    {
     "data": {
      "text/plain": [
       "0.7504886125515002"
      ]
     },
     "execution_count": 22,
     "metadata": {},
     "output_type": "execute_result"
    }
   ],
   "source": [
    "from sklearn.ensemble import GradientBoostingRegressor\n",
    "\n",
    "model = GradientBoostingRegressor()\n",
    "cross_val_score(model, x, y, cv=5).mean()"
   ]
  },
  {
   "cell_type": "code",
   "execution_count": 23,
   "id": "c65da75e-583f-46c3-8139-c68d2add4773",
   "metadata": {},
   "outputs": [
    {
     "data": {
      "text/plain": [
       "array([11.49105571])"
      ]
     },
     "execution_count": 23,
     "metadata": {},
     "output_type": "execute_result"
    }
   ],
   "source": [
    "model.fit(x, y)\n",
    "\n",
    "model.predict(pd.DataFrame({\"day_of_week\": [4], \"pickup_time\": [17], \"distance\": [2.0]}))"
   ]
  },
  {
   "cell_type": "code",
   "execution_count": 24,
   "id": "cda767b3-4b30-4113-b97e-a4b85effa92c",
   "metadata": {},
   "outputs": [
    {
     "data": {
      "text/plain": [
       "array([10.95309995])"
      ]
     },
     "execution_count": 24,
     "metadata": {},
     "output_type": "execute_result"
    }
   ],
   "source": [
    "model.predict(pd.DataFrame({\"day_of_week\": [5], \"pickup_time\": [17], \"distance\": [2.0]}))"
   ]
  }
 ],
 "metadata": {
  "kernelspec": {
   "display_name": "Python 3 (ipykernel)",
   "language": "python",
   "name": "python3"
  },
  "language_info": {
   "codemirror_mode": {
    "name": "ipython",
    "version": 3
   },
   "file_extension": ".py",
   "mimetype": "text/x-python",
   "name": "python",
   "nbconvert_exporter": "python",
   "pygments_lexer": "ipython3",
   "version": "3.11.9"
  }
 },
 "nbformat": 4,
 "nbformat_minor": 5
}
